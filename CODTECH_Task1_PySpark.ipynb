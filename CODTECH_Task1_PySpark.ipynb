{
 "cells": [
  {
   "cell_type": "markdown",
   "id": "faffde71",
   "metadata": {},
   "source": [
    "# CODTECH Internship – Task 1\n",
    "\n",
    "## 📊 Big Data Analysis using PySpark\n",
    "\n",
    "**Dataset**: [cities.csv](https://people.sc.fsu.edu/~jburkardt/data/csv/cities.csv)\n",
    "\n",
    "### ✅ Steps Performed:\n",
    "- Loaded and cleaned the dataset\n",
    "- Renamed important columns\n",
    "- Displayed sample rows and schema\n",
    "- Generated basic statistics\n",
    "- Filtered and sorted the data\n",
    "\n",
    "---\n",
    "\n",
    "## 🔍 Key Insights\n",
    "\n",
    "1. The dataset contains city names and their geographic locations in Degrees, Minutes, and Seconds format.\n",
    "2. Renaming and cleaning made the data easier to analyze.\n",
    "3. Cities with Latitude > 40 are mostly in northern U.S. (e.g., New York, Chicago).\n",
    "4. Sorting by Longitude revealed west coast cities like San Francisco.\n",
    "5. PySpark proved efficient for analyzing even structured tabular data.\n",
    "\n",
    "---\n",
    "*Submitted by vedika gupta  –  Data Analytics*\n"
   ]
  },
  {
   "cell_type": "code",
   "execution_count": null,
   "id": "7f82df74",
   "metadata": {},
   "outputs": [],
   "source": [
    "from pyspark.sql import SparkSession\n",
    "\n",
    "# ✅ Start Spark session\n",
    "spark = SparkSession.builder.appName(\"CityDataAnalysis\").getOrCreate()"
   ]
  },
  {
   "cell_type": "code",
   "execution_count": null,
   "id": "723faccd",
   "metadata": {},
   "outputs": [],
   "source": [
    "# ✅ Load the dataset (make sure cities.csv is in C:/Users/Sanjay/)\n",
    "df = spark.read.csv(\"file:///C:/Users/Sanjay/cities.csv\", header=True, inferSchema=True)"
   ]
  },
  {
   "cell_type": "code",
   "execution_count": null,
   "id": "56258ff4",
   "metadata": {},
   "outputs": [],
   "source": [
    "# ✅ Step 1: Show original column names\n",
    "print(\"📌 Original column names:\")\n",
    "print(df.columns)"
   ]
  },
  {
   "cell_type": "code",
   "execution_count": null,
   "id": "2f17ae7e",
   "metadata": {},
   "outputs": [],
   "source": [
    "# ✅ Step 2: Clean up column names (remove extra spaces/quotes)\n",
    "df = df.toDF(*[col.strip().replace('\"', '') for col in df.columns])"
   ]
  },
  {
   "cell_type": "code",
   "execution_count": null,
   "id": "0bd443fa",
   "metadata": {},
   "outputs": [],
   "source": [
    "# ✅ Step 3: Rename columns to readable names\n",
    "df = df.withColumnRenamed(\"LatD\", \"Latitude\").withColumnRenamed(\"LonD\", \"Longitude\")"
   ]
  },
  {
   "cell_type": "code",
   "execution_count": null,
   "id": "dd4e04d2",
   "metadata": {},
   "outputs": [],
   "source": [
    "# ✅ Step 4: Show the first few rows\n",
    "print(\"📌 Preview of dataset:\")\n",
    "df.show(5)"
   ]
  },
  {
   "cell_type": "code",
   "execution_count": null,
   "id": "f16f2225",
   "metadata": {},
   "outputs": [],
   "source": [
    "# ✅ Step 5: Print schema\n",
    "print(\"📌 Schema of dataset:\")\n",
    "df.printSchema()"
   ]
  },
  {
   "cell_type": "code",
   "execution_count": null,
   "id": "45ae62eb",
   "metadata": {},
   "outputs": [],
   "source": [
    "# ✅ Step 6: Count the number of records\n",
    "print(\"📌 Total number of cities:\")\n",
    "print(df.count())"
   ]
  },
  {
   "cell_type": "code",
   "execution_count": null,
   "id": "4fe76fc3",
   "metadata": {},
   "outputs": [],
   "source": [
    "# ✅ Step 7: Describe statistics\n",
    "print(\"📌 Summary statistics:\")\n",
    "df.describe().show()"
   ]
  },
  {
   "cell_type": "code",
   "execution_count": null,
   "id": "a04cd1ca",
   "metadata": {},
   "outputs": [],
   "source": [
    "# ✅ Step 8: Filter cities with Latitude > 40\n",
    "print(\"📌 Cities with Latitude > 40:\")\n",
    "df.filter(df[\"Latitude\"] > 40).show()"
   ]
  },
  {
   "cell_type": "code",
   "execution_count": null,
   "id": "9235263b",
   "metadata": {},
   "outputs": [],
   "source": [
    "# ✅ Step 9: Sort by Longitude (descending)\n",
    "print(\"📌 Cities sorted by Longitude:\")\n",
    "df.orderBy(\"Longitude\", ascending=False).show(5)"
   ]
  }
 ],
 "metadata": {},
 "nbformat": 4,
 "nbformat_minor": 5
}
